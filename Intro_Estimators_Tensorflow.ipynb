{
 "cells": [
  {
   "cell_type": "markdown",
   "metadata": {},
   "source": [
    "# Estimators in Tensorflow\n",
    "We are going to learn plain and simple estimators which can make linear regression simpler and easier"
   ]
  },
  {
   "cell_type": "markdown",
   "metadata": {},
   "source": [
    "## The Basic Usage of Estimator"
   ]
  },
  {
   "cell_type": "code",
   "execution_count": 1,
   "metadata": {},
   "outputs": [
    {
     "name": "stdout",
     "output_type": "stream",
     "text": [
      "1.3.0\n"
     ]
    }
   ],
   "source": [
    "#Out packages\n",
    "import tensorflow as tf\n",
    "import numpy as np\n",
    "\n",
    "#Checking the version\n",
    "print(tf.__version__)"
   ]
  },
  {
   "cell_type": "code",
   "execution_count": 6,
   "metadata": {
    "collapsed": true
   },
   "outputs": [],
   "source": [
    "# Declare list of features. We only have one numeric feature. There are many\n",
    "# other types of columns that are more complicated and useful.\n",
    "feature_columns = [tf.feature_column.numeric_column('x', shape=[1])]"
   ]
  },
  {
   "cell_type": "markdown",
   "metadata": {},
   "source": [
    "### What is an Estimator :\n",
    "An estimator is the front end to invoke training (fitting) and evaluation(inference). There are many predefined types like linear regression, linear classification, and many neural network classifiers and regressors. The following code provides an estimator that does linear regression."
   ]
  },
  {
   "cell_type": "code",
   "execution_count": 19,
   "metadata": {},
   "outputs": [
    {
     "name": "stdout",
     "output_type": "stream",
     "text": [
      "INFO:tensorflow:Using default config.\n",
      "WARNING:tensorflow:Using temporary folder as model directory: /var/folders/wl/n2_2rwc93zz1xy58jjxcvq5m0000gn/T/tmpkeqrokuy\n",
      "INFO:tensorflow:Using config: {'_model_dir': '/var/folders/wl/n2_2rwc93zz1xy58jjxcvq5m0000gn/T/tmpkeqrokuy', '_tf_random_seed': 1, '_save_summary_steps': 100, '_save_checkpoints_secs': 600, '_save_checkpoints_steps': None, '_session_config': None, '_keep_checkpoint_max': 5, '_keep_checkpoint_every_n_hours': 10000, '_log_step_count_steps': 100}\n"
     ]
    }
   ],
   "source": [
    "estimator = tf.estimator.LinearRegressor(feature_columns=feature_columns)\n",
    "\n",
    "#TensorFlow provides many helper methods to read and set up data sets.\n",
    "# Here we use two data sets: one for training and one for evaluation\n",
    "# We have to tell the function how many batches\n",
    "# of data (num_epochs) we want and how big each batch should be.\n",
    "x_train = np.array([1., 2., 3., 4.])\n",
    "y_train = np.array([0., -1., -2., -3.])\n",
    "x_eval = np.array([2, 5, 8, 1])\n",
    "y_eval = np.array([-1.01, -4.1, -7, 0.])\n",
    "\n",
    "input_fn = tf.estimator.inputs.numpy_input_fn(\n",
    "    {\"x\": x_train}, y_train, batch_size=4, num_epochs=None, shuffle=True)\n",
    "train_input_fn = tf.estimator.inputs.numpy_input_fn(\n",
    "    {\"x\": x_train}, y_train, batch_size=4, num_epochs=1000, shuffle=False)\n",
    "eval_input_fn = tf.estimator.inputs.numpy_input_fn(\n",
    "    {\"x\": x_eval}, y_eval, batch_size=4, num_epochs=1000, shuffle=False)"
   ]
  },
  {
   "cell_type": "code",
   "execution_count": 20,
   "metadata": {},
   "outputs": [
    {
     "name": "stdout",
     "output_type": "stream",
     "text": [
      "INFO:tensorflow:Create CheckpointSaverHook.\n",
      "INFO:tensorflow:Saving checkpoints for 1 into /var/folders/wl/n2_2rwc93zz1xy58jjxcvq5m0000gn/T/tmpkeqrokuy/model.ckpt.\n",
      "INFO:tensorflow:loss = 11.0, step = 1\n",
      "INFO:tensorflow:global_step/sec: 530.434\n",
      "INFO:tensorflow:loss = 0.1992, step = 101 (0.192 sec)\n",
      "INFO:tensorflow:global_step/sec: 757.438\n",
      "INFO:tensorflow:loss = 0.0146594, step = 201 (0.132 sec)\n",
      "INFO:tensorflow:global_step/sec: 951.113\n",
      "INFO:tensorflow:loss = 0.0106635, step = 301 (0.106 sec)\n",
      "INFO:tensorflow:global_step/sec: 958.882\n",
      "INFO:tensorflow:loss = 0.00185864, step = 401 (0.104 sec)\n",
      "INFO:tensorflow:global_step/sec: 930.294\n",
      "INFO:tensorflow:loss = 7.15146e-05, step = 501 (0.107 sec)\n",
      "INFO:tensorflow:global_step/sec: 801.449\n",
      "INFO:tensorflow:loss = 8.16655e-05, step = 601 (0.126 sec)\n",
      "INFO:tensorflow:global_step/sec: 806.067\n",
      "INFO:tensorflow:loss = 1.73338e-05, step = 701 (0.122 sec)\n",
      "INFO:tensorflow:global_step/sec: 830.277\n",
      "INFO:tensorflow:loss = 8.94877e-07, step = 801 (0.121 sec)\n",
      "INFO:tensorflow:global_step/sec: 816.739\n",
      "INFO:tensorflow:loss = 4.71766e-07, step = 901 (0.123 sec)\n",
      "INFO:tensorflow:Saving checkpoints for 1000 into /var/folders/wl/n2_2rwc93zz1xy58jjxcvq5m0000gn/T/tmpkeqrokuy/model.ckpt.\n",
      "INFO:tensorflow:Loss for final step: 1.38715e-07.\n"
     ]
    },
    {
     "data": {
      "text/plain": [
       "<tensorflow.python.estimator.canned.linear.LinearRegressor at 0x127dea320>"
      ]
     },
     "execution_count": 20,
     "metadata": {},
     "output_type": "execute_result"
    }
   ],
   "source": [
    "# We can invoke 1000 training steps by invoking the  method and passing the\n",
    "# training data set.\n",
    "estimator.train(input_fn=input_fn, steps=1000)"
   ]
  },
  {
   "cell_type": "code",
   "execution_count": 21,
   "metadata": {},
   "outputs": [
    {
     "name": "stdout",
     "output_type": "stream",
     "text": [
      "INFO:tensorflow:Starting evaluation at 2017-09-08-10:22:40\n",
      "INFO:tensorflow:Restoring parameters from /var/folders/wl/n2_2rwc93zz1xy58jjxcvq5m0000gn/T/tmpkeqrokuy/model.ckpt-1000\n",
      "INFO:tensorflow:Finished evaluation at 2017-09-08-10:22:41\n",
      "INFO:tensorflow:Saving dict for global step 1000: average_loss = 2.41913e-08, global_step = 1000, loss = 9.67652e-08\n",
      "INFO:tensorflow:Starting evaluation at 2017-09-08-10:22:41\n",
      "INFO:tensorflow:Restoring parameters from /var/folders/wl/n2_2rwc93zz1xy58jjxcvq5m0000gn/T/tmpkeqrokuy/model.ckpt-1000\n",
      "INFO:tensorflow:Finished evaluation at 2017-09-08-10:22:42\n",
      "INFO:tensorflow:Saving dict for global step 1000: average_loss = 0.00254011, global_step = 1000, loss = 0.0101604\n",
      "train metrics: {'average_loss': 2.4191312e-08, 'loss': 9.6765248e-08, 'global_step': 1000}\n",
      "eval metrics: {'average_loss': 0.0025401104, 'loss': 0.010160442, 'global_step': 1000}\n"
     ]
    }
   ],
   "source": [
    "# Here we evaluate how well our model did.\n",
    "train_metrics = estimator.evaluate(input_fn=train_input_fn)\n",
    "eval_metrics = estimator.evaluate(input_fn=eval_input_fn)\n",
    "print(\"train metrics: %r\"% train_metrics)\n",
    "print(\"eval metrics: %r\"% eval_metrics)"
   ]
  },
  {
   "cell_type": "markdown",
   "metadata": {},
   "source": [
    "## Custom Model "
   ]
  },
  {
   "cell_type": "code",
   "execution_count": 22,
   "metadata": {
    "collapsed": true
   },
   "outputs": [],
   "source": [
    "import numpy as np\n",
    "import tensorflow as tf"
   ]
  },
  {
   "cell_type": "code",
   "execution_count": 25,
   "metadata": {
    "collapsed": true
   },
   "outputs": [],
   "source": [
    "# Declare list of features, we only have one real-valued feature\n",
    "def model_fn(features, labels, mode):\n",
    "  # Build a linear model and predict values\n",
    "  W = tf.get_variable(\"W\", [1], dtype=tf.float64)\n",
    "  b = tf.get_variable(\"b\", [1], dtype=tf.float64)\n",
    "  y = W * features['x'] + b\n",
    "  # Loss sub-graph\n",
    "  loss = tf.reduce_sum(tf.square(y - labels))\n",
    "  # Training sub-graph\n",
    "  global_step = tf.train.get_global_step()\n",
    "  optimizer = tf.train.GradientDescentOptimizer(0.01)\n",
    "  train = tf.group(optimizer.minimize(loss),\n",
    "                   tf.assign_add(global_step, 1))\n",
    "    # EstimatorSpec connects subgraphs we built to the\n",
    "  # appropriate functionality.\n",
    "  return tf.estimator.EstimatorSpec(\n",
    "      mode=mode,\n",
    "      predictions=y,\n",
    "      loss=loss,\n",
    "      train_op=train)"
   ]
  },
  {
   "cell_type": "code",
   "execution_count": 26,
   "metadata": {},
   "outputs": [
    {
     "name": "stdout",
     "output_type": "stream",
     "text": [
      "INFO:tensorflow:Using default config.\n",
      "WARNING:tensorflow:Using temporary folder as model directory: /var/folders/wl/n2_2rwc93zz1xy58jjxcvq5m0000gn/T/tmp7sd30r69\n",
      "INFO:tensorflow:Using config: {'_model_dir': '/var/folders/wl/n2_2rwc93zz1xy58jjxcvq5m0000gn/T/tmp7sd30r69', '_tf_random_seed': 1, '_save_summary_steps': 100, '_save_checkpoints_secs': 600, '_save_checkpoints_steps': None, '_session_config': None, '_keep_checkpoint_max': 5, '_keep_checkpoint_every_n_hours': 10000, '_log_step_count_steps': 100}\n"
     ]
    }
   ],
   "source": [
    "estimator = tf.estimator.Estimator(model_fn=model_fn)\n",
    "# define our data sets\n",
    "x_train = np.array([1., 2., 3., 4.])\n",
    "y_train = np.array([0., -1., -2., -3.])\n",
    "x_eval = np.array([2., 5., 8., 1.])\n",
    "y_eval = np.array([-1.01, -4.1, -7, 0.])\n",
    "input_fn = tf.estimator.inputs.numpy_input_fn(\n",
    "    {\"x\": x_train}, y_train, batch_size=4, num_epochs=None, shuffle=True)\n",
    "train_input_fn = tf.estimator.inputs.numpy_input_fn(\n",
    "    {\"x\": x_train}, y_train, batch_size=4, num_epochs=1000, shuffle=False)\n",
    "eval_input_fn = tf.estimator.inputs.numpy_input_fn(\n",
    "    {\"x\": x_eval}, y_eval, batch_size=4, num_epochs=1000, shuffle=False)"
   ]
  },
  {
   "cell_type": "code",
   "execution_count": 27,
   "metadata": {},
   "outputs": [
    {
     "name": "stdout",
     "output_type": "stream",
     "text": [
      "INFO:tensorflow:Create CheckpointSaverHook.\n",
      "INFO:tensorflow:Saving checkpoints for 1 into /var/folders/wl/n2_2rwc93zz1xy58jjxcvq5m0000gn/T/tmp7sd30r69/model.ckpt.\n",
      "INFO:tensorflow:loss = 8.66328258808, step = 1\n",
      "INFO:tensorflow:global_step/sec: 867.913\n",
      "INFO:tensorflow:loss = 0.0355069538472, step = 101 (0.119 sec)\n",
      "INFO:tensorflow:global_step/sec: 635.336\n",
      "INFO:tensorflow:loss = 0.00187912138361, step = 201 (0.158 sec)\n",
      "INFO:tensorflow:global_step/sec: 544.505\n",
      "INFO:tensorflow:loss = 0.000208277648644, step = 301 (0.183 sec)\n",
      "INFO:tensorflow:global_step/sec: 924.118\n",
      "INFO:tensorflow:loss = 1.89639229428e-05, step = 401 (0.108 sec)\n",
      "INFO:tensorflow:global_step/sec: 873.753\n",
      "INFO:tensorflow:loss = 1.93501599463e-06, step = 501 (0.112 sec)\n",
      "INFO:tensorflow:global_step/sec: 632.639\n",
      "INFO:tensorflow:loss = 2.52058855581e-07, step = 601 (0.159 sec)\n",
      "INFO:tensorflow:global_step/sec: 660.938\n",
      "INFO:tensorflow:loss = 3.87570816478e-08, step = 701 (0.151 sec)\n",
      "INFO:tensorflow:global_step/sec: 615.271\n",
      "INFO:tensorflow:loss = 1.92145687244e-09, step = 801 (0.163 sec)\n",
      "INFO:tensorflow:global_step/sec: 658.774\n",
      "INFO:tensorflow:loss = 1.19074891597e-10, step = 901 (0.152 sec)\n",
      "INFO:tensorflow:Saving checkpoints for 1000 into /var/folders/wl/n2_2rwc93zz1xy58jjxcvq5m0000gn/T/tmp7sd30r69/model.ckpt.\n",
      "INFO:tensorflow:Loss for final step: 1.5569807857e-11.\n",
      "INFO:tensorflow:Starting evaluation at 2017-09-08-10:26:18\n",
      "INFO:tensorflow:Restoring parameters from /var/folders/wl/n2_2rwc93zz1xy58jjxcvq5m0000gn/T/tmp7sd30r69/model.ckpt-1000\n",
      "INFO:tensorflow:Finished evaluation at 2017-09-08-10:26:19\n",
      "INFO:tensorflow:Saving dict for global step 1000: global_step = 1000, loss = 1.00347e-11\n",
      "INFO:tensorflow:Starting evaluation at 2017-09-08-10:26:19\n",
      "INFO:tensorflow:Restoring parameters from /var/folders/wl/n2_2rwc93zz1xy58jjxcvq5m0000gn/T/tmp7sd30r69/model.ckpt-1000\n",
      "INFO:tensorflow:Finished evaluation at 2017-09-08-10:26:20\n",
      "INFO:tensorflow:Saving dict for global step 1000: global_step = 1000, loss = 0.0101005\n",
      "train metrics: {'loss': 1.0034661e-11, 'global_step': 1000}\n",
      "eval metrics: {'loss': 0.010100453, 'global_step': 1000}\n"
     ]
    }
   ],
   "source": [
    "# train\n",
    "estimator.train(input_fn=input_fn, steps=1000)\n",
    "# Here we evaluate how well our model did.\n",
    "train_metrics = estimator.evaluate(input_fn=train_input_fn)\n",
    "eval_metrics = estimator.evaluate(input_fn=eval_input_fn)\n",
    "print(\"train metrics: %r\"% train_metrics)\n",
    "print(\"eval metrics: %r\"% eval_metrics)"
   ]
  }
 ],
 "metadata": {
  "kernelspec": {
   "display_name": "Python 3",
   "language": "python",
   "name": "python3"
  },
  "language_info": {
   "codemirror_mode": {
    "name": "ipython",
    "version": 3
   },
   "file_extension": ".py",
   "mimetype": "text/x-python",
   "name": "python",
   "nbconvert_exporter": "python",
   "pygments_lexer": "ipython3",
   "version": "3.6.1"
  }
 },
 "nbformat": 4,
 "nbformat_minor": 2
}
